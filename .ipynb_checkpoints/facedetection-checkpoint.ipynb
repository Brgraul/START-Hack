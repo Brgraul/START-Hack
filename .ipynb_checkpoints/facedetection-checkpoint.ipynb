{
 "cells": [
  {
   "cell_type": "code",
   "execution_count": 3,
   "metadata": {},
   "outputs": [
    {
     "ename": "NameError",
     "evalue": "name 'feedback' is not defined",
     "output_type": "error",
     "traceback": [
      "\u001b[1;31m---------------------------------------------------------------------------\u001b[0m",
      "\u001b[1;31mNameError\u001b[0m                                 Traceback (most recent call last)",
      "\u001b[1;32m<ipython-input-3-e54f8a4af14d>\u001b[0m in \u001b[0;36m<module>\u001b[1;34m()\u001b[0m\n\u001b[0;32m      1\u001b[0m \u001b[1;32mimport\u001b[0m \u001b[0mimportlib\u001b[0m\u001b[1;33m\u001b[0m\u001b[0m\n\u001b[1;32m----> 2\u001b[1;33m \u001b[0mimportlib\u001b[0m\u001b[1;33m.\u001b[0m\u001b[0mimport_module\u001b[0m\u001b[1;33m(\u001b[0m\u001b[0mfeedback\u001b[0m\u001b[1;33m)\u001b[0m\u001b[1;33m\u001b[0m\u001b[0m\n\u001b[0m",
      "\u001b[1;31mNameError\u001b[0m: name 'feedback' is not defined"
     ]
    }
   ],
   "source": [
    "import importlib\n",
    "importlib.import_module(feedback)"
   ]
  },
  {
   "cell_type": "code",
   "execution_count": 75,
   "metadata": {},
   "outputs": [],
   "source": [
    "import cognitive_face as CF\n",
    "\n",
    "\n",
    "def get_image_caption(image):\n",
    "    cv2.imwrite(\"temp.jpg\", image)\n",
    "    img = cv2.imencode('.jpg', image)[1].tostring()\n",
    "    KEY = subscription_key  # Replace with a valid subscription key (keeping the quotes in place).\n",
    "    CF.Key.set(KEY)\n",
    "    BASE_URL = 'https://westeurope.api.cognitive.microsoft.com/face/v1.0'  # Replace with your regional Base URL\n",
    "    CF.BaseUrl.set(BASE_URL)\n",
    "    faces = CF.face.detect('temp.jpg', attributes='age,gender,emotion')\n",
    "    \n",
    "    print(faces)\n",
    "    \n",
    "    return (\"image_caption\")"
   ]
  },
  {
   "cell_type": "code",
   "execution_count": 76,
   "metadata": {},
   "outputs": [
    {
     "name": "stdout",
     "output_type": "stream",
     "text": [
      "[{'faceId': '32357099-abbf-4fd6-8155-51ac14927e81', 'faceRectangle': {'top': 199, 'left': 319, 'width': 149, 'height': 149}, 'faceAttributes': {'gender': 'male', 'age': 30.0, 'emotion': {'anger': 0.0, 'contempt': 0.0, 'disgust': 0.0, 'fear': 0.0, 'happiness': 0.0, 'neutral': 0.719, 'sadness': 0.28, 'surprise': 0.0}}}]\n",
      "[{'faceId': '404c3a47-f933-4613-bc7e-a70830354b61', 'faceRectangle': {'top': 198, 'left': 325, 'width': 146, 'height': 146}, 'faceAttributes': {'gender': 'male', 'age': 30.0, 'emotion': {'anger': 0.0, 'contempt': 0.0, 'disgust': 0.0, 'fear': 0.0, 'happiness': 0.008, 'neutral': 0.869, 'sadness': 0.123, 'surprise': 0.0}}}]\n",
      "[{'faceId': '03c63b4d-3317-44c6-a7a7-be34979c1f76', 'faceRectangle': {'top': 191, 'left': 319, 'width': 146, 'height': 146}, 'faceAttributes': {'gender': 'male', 'age': 27.0, 'emotion': {'anger': 0.0, 'contempt': 0.0, 'disgust': 0.0, 'fear': 0.0, 'happiness': 0.999, 'neutral': 0.0, 'sadness': 0.0, 'surprise': 0.001}}}]\n",
      "[{'faceId': '1ff5fa7c-40fe-486d-b2fb-7556537371ec', 'faceRectangle': {'top': 191, 'left': 323, 'width': 134, 'height': 134}, 'faceAttributes': {'gender': 'male', 'age': 29.0, 'emotion': {'anger': 0.0, 'contempt': 0.0, 'disgust': 0.0, 'fear': 0.0, 'happiness': 1.0, 'neutral': 0.0, 'sadness': 0.0, 'surprise': 0.0}}}]\n",
      "[{'faceId': 'e7849e81-4df6-4d7b-aa06-b75d1eb1242e', 'faceRectangle': {'top': 203, 'left': 314, 'width': 144, 'height': 144}, 'faceAttributes': {'gender': 'male', 'age': 27.0, 'emotion': {'anger': 0.0, 'contempt': 0.0, 'disgust': 0.0, 'fear': 0.0, 'happiness': 1.0, 'neutral': 0.0, 'sadness': 0.0, 'surprise': 0.0}}}]\n",
      "[{'faceId': '05f929f2-9d77-4b54-94c3-86a7bddbe718', 'faceRectangle': {'top': 194, 'left': 297, 'width': 145, 'height': 145}, 'faceAttributes': {'gender': 'male', 'age': 30.0, 'emotion': {'anger': 0.0, 'contempt': 0.001, 'disgust': 0.0, 'fear': 0.0, 'happiness': 0.005, 'neutral': 0.978, 'sadness': 0.016, 'surprise': 0.0}}}]\n",
      "[{'faceId': '53d7fbac-3f63-4710-8389-7cdac8935985', 'faceRectangle': {'top': 185, 'left': 290, 'width': 142, 'height': 142}, 'faceAttributes': {'gender': 'male', 'age': 27.0, 'emotion': {'anger': 0.0, 'contempt': 0.0, 'disgust': 0.0, 'fear': 0.0, 'happiness': 0.0, 'neutral': 1.0, 'sadness': 0.0, 'surprise': 0.0}}}]\n",
      "[{'faceId': '95aca6a1-c24b-496d-8bca-5ee0a7dd7ce8', 'faceRectangle': {'top': 183, 'left': 285, 'width': 143, 'height': 143}, 'faceAttributes': {'gender': 'male', 'age': 29.0, 'emotion': {'anger': 0.0, 'contempt': 0.0, 'disgust': 0.0, 'fear': 0.0, 'happiness': 0.0, 'neutral': 1.0, 'sadness': 0.0, 'surprise': 0.0}}}]\n",
      "[{'faceId': 'ffb7be2a-aa0c-4c1c-8e1e-509b886191f3', 'faceRectangle': {'top': 180, 'left': 275, 'width': 149, 'height': 149}, 'faceAttributes': {'gender': 'male', 'age': 33.0, 'emotion': {'anger': 0.001, 'contempt': 0.002, 'disgust': 0.0, 'fear': 0.0, 'happiness': 0.0, 'neutral': 0.925, 'sadness': 0.072, 'surprise': 0.0}}}]\n",
      "[{'faceId': 'e708847e-bd3d-4747-9271-d6456dc88470', 'faceRectangle': {'top': 192, 'left': 288, 'width': 151, 'height': 151}, 'faceAttributes': {'gender': 'male', 'age': 27.0, 'emotion': {'anger': 0.0, 'contempt': 0.0, 'disgust': 0.0, 'fear': 0.0, 'happiness': 0.035, 'neutral': 0.915, 'sadness': 0.05, 'surprise': 0.0}}}]\n",
      "[{'faceId': 'bef60403-d434-46df-b69f-cc7494f70f2a', 'faceRectangle': {'top': 199, 'left': 287, 'width': 139, 'height': 139}, 'faceAttributes': {'gender': 'male', 'age': 25.0, 'emotion': {'anger': 0.0, 'contempt': 0.001, 'disgust': 0.0, 'fear': 0.0, 'happiness': 0.0, 'neutral': 0.976, 'sadness': 0.022, 'surprise': 0.0}}}]\n",
      "[{'faceId': '81100bd3-a077-4d02-af3d-de2ad6394f9c', 'faceRectangle': {'top': 172, 'left': 239, 'width': 135, 'height': 135}, 'faceAttributes': {'gender': 'male', 'age': 22.0, 'emotion': {'anger': 0.0, 'contempt': 0.0, 'disgust': 0.0, 'fear': 0.0, 'happiness': 0.0, 'neutral': 0.99, 'sadness': 0.01, 'surprise': 0.0}}}]\n",
      "[{'faceId': '74e07a2d-5c85-412e-93f4-d24091e00c00', 'faceRectangle': {'top': 180, 'left': 267, 'width': 143, 'height': 143}, 'faceAttributes': {'gender': 'male', 'age': 28.0, 'emotion': {'anger': 0.0, 'contempt': 0.005, 'disgust': 0.0, 'fear': 0.0, 'happiness': 0.002, 'neutral': 0.992, 'sadness': 0.0, 'surprise': 0.0}}}]\n"
     ]
    },
    {
     "data": {
      "text/plain": [
       "-1"
      ]
     },
     "execution_count": 76,
     "metadata": {},
     "output_type": "execute_result"
    }
   ],
   "source": [
    "stream = cv2.VideoCapture(0)\n",
    "key = None\n",
    "count = 0\n",
    "overlay_text = \"\"\n",
    "\n",
    "while True:\n",
    "    if count % 3 != 0:\n",
    "        # Read frames from live web cam stream\n",
    "        (grabbed, frame) = stream.read()\n",
    "\n",
    "        # Make copies of the frame for transparency processing\n",
    "        output = frame.copy()\n",
    "        \n",
    "        # Get caption to overlay\n",
    "        if count % 50 == 0:\n",
    "            overlay_text = get_image_caption(output)\n",
    "        \n",
    "        # Overlay caption on image\n",
    "        cv2.putText(output, overlay_text, (10, 30),\n",
    "            cv2.FONT_HERSHEY_SIMPLEX, 0.5, (0, 0, 0), 2)\n",
    "\n",
    "        # Show the frame\n",
    "        cv2.imshow(\"Image\", output)\n",
    "        key = cv2.waitKey(1) & 0xFF\n",
    "        \n",
    "    count +=1\n",
    "    # Press q to break out of the loop\n",
    "    if key == ord(\"q\"):\n",
    "        break\n",
    "\n",
    "# cleanup\n",
    "stream.release()\n",
    "cv2.waitKey(1)\n",
    "cv2.destroyAllWindows()\n",
    "cv2.waitKey(1)"
   ]
  },
  {
   "cell_type": "code",
   "execution_count": null,
   "metadata": {},
   "outputs": [],
   "source": []
  }
 ],
 "metadata": {
  "kernelspec": {
   "display_name": "Python 3",
   "language": "python",
   "name": "python3"
  },
  "language_info": {
   "codemirror_mode": {
    "name": "ipython",
    "version": 3
   },
   "file_extension": ".py",
   "mimetype": "text/x-python",
   "name": "python",
   "nbconvert_exporter": "python",
   "pygments_lexer": "ipython3",
   "version": "3.6.5"
  }
 },
 "nbformat": 4,
 "nbformat_minor": 2
}
